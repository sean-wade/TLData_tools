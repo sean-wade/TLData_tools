{
 "cells": [
  {
   "cell_type": "code",
   "execution_count": 1,
   "id": "e838fd5b-ef80-4039-99b3-d5b667f432f9",
   "metadata": {},
   "outputs": [],
   "source": [
    "import os\n",
    "import json\n",
    "import numpy as np\n",
    "import matplotlib.pyplot as plt"
   ]
  },
  {
   "cell_type": "code",
   "execution_count": 7,
   "id": "15bae011-75b4-485e-aa0f-69a56d96ade8",
   "metadata": {},
   "outputs": [],
   "source": [
    "child_classes = {\n",
    "    \"color\"          : [\"red\", \"green\", \"yellow\", \"dark\", \"unknown\"],\n",
    "    \"shape\"          : [\"circle\", \"arrow_straight\", \"arrow_left\", \"arrow_right\", \"arrow_uturn\", \n",
    "                        \"arrow_straight_left\", \"arrow_straight_right\", \"arrow_uturn_left\", \n",
    "                        \"bicycle\", \"pedestrian\", \n",
    "                        \"lane_stop\", \"lane_straight\", \n",
    "                        \"digit\", \n",
    "                        \"unknown\"\n",
    "                        ]\n",
    "}\n",
    "\n",
    "root = \"/mnt/data/SGData/TLS_dataset/traffic_light_2022_07_19_13_28/camera_f30/crop/annos\"\n",
    "fs = os.listdir(root)"
   ]
  },
  {
   "cell_type": "code",
   "execution_count": 8,
   "id": "2beb1908-0161-416b-8178-136604fa052f",
   "metadata": {},
   "outputs": [
    {
     "data": {
      "text/plain": [
       "{'color': [230, 95, 7, 738, 397],\n",
       " 'shape': [89, 38, 20, 0, 0, 0, 0, 0, 0, 25, 0, 0, 118, 1177]}"
      ]
     },
     "execution_count": 8,
     "metadata": {},
     "output_type": "execute_result"
    }
   ],
   "source": [
    "child_nums = {k:[0]*len(child_classes[k]) for k in child_classes.keys()}\n",
    "\n",
    "for ff in fs:\n",
    "    anno_file = os.path.join(root, ff)\n",
    "    cur_annos = json.load(open(anno_file))\n",
    "    if \"digit\" in cur_annos[\"shape\"]: \n",
    "        cur_annos[\"shape\"] = \"digit\"\n",
    "    \n",
    "    color_id = child_classes[\"color\"].index(cur_annos[\"color\"])\n",
    "    shape_id = child_classes[\"shape\"].index(cur_annos[\"shape\"])\n",
    "    \n",
    "    child_nums[\"color\"][color_id] += 1\n",
    "    child_nums[\"shape\"][shape_id] += 1"
   ]
  },
  {
   "cell_type": "code",
   "execution_count": 11,
   "id": "8ad366e9-3ef3-4d52-aa32-65fd8beb5012",
   "metadata": {},
   "outputs": [
    {
     "name": "stdout",
     "output_type": "stream",
     "text": [
      "red : 230\n",
      "green : 95\n",
      "yellow : 7\n",
      "dark : 738\n",
      "unknown : 397\n",
      "\n",
      "circle : 89\n",
      "arrow_straight : 38\n",
      "arrow_left : 20\n",
      "arrow_right : 0\n",
      "arrow_uturn : 0\n",
      "arrow_straight_left : 0\n",
      "arrow_straight_right : 0\n",
      "arrow_uturn_left : 0\n",
      "bicycle : 0\n",
      "pedestrian : 25\n",
      "lane_stop : 0\n",
      "lane_straight : 0\n",
      "digit : 118\n",
      "unknown : 1177\n",
      "\n"
     ]
    }
   ],
   "source": [
    "for k, v in child_classes.items():\n",
    "    for i in range(len(v)):\n",
    "        print(v[i],  \":\", child_nums[k][i])\n",
    "    print()"
   ]
  },
  {
   "cell_type": "code",
   "execution_count": 12,
   "id": "6c5e3f49-5590-43f4-843c-b60b8190e71d",
   "metadata": {},
   "outputs": [],
   "source": [
    "def find_obj_seq(obj_nums):\n",
    "    streak = 0\n",
    "    seqs = []\n",
    "    for i, num in enumerate(obj_nums):\n",
    "        if num > 0:\n",
    "            streak += 1\n",
    "        else:\n",
    "            if streak > 2:\n",
    "                seqs.append([jj for jj in range(i-streak, i)])\n",
    "            streak = 0\n",
    "    return seqs"
   ]
  },
  {
   "cell_type": "code",
   "execution_count": 22,
   "id": "14142144-995c-4639-83bd-36e69153d418",
   "metadata": {},
   "outputs": [
    {
     "data": {
      "text/plain": [
       "[[0, 1, 2, 3], [7, 8, 9], [18, 19, 20]]"
      ]
     },
     "execution_count": 22,
     "metadata": {},
     "output_type": "execute_result"
    }
   ],
   "source": [
    "find_obj_seq([1,1,1,2,0,0,0,3,1,2,0,1,1,0,0,0,0,0,3,1,1] + [0])"
   ]
  },
  {
   "cell_type": "code",
   "execution_count": 40,
   "id": "a8a81a1c-6d78-4bc4-a455-03133cc17a2c",
   "metadata": {},
   "outputs": [],
   "source": [
    "def get_color_change_streak(history_colors):\n",
    "    if len(history_colors) < 2:\n",
    "        color_changed_acc = 0\n",
    "    else:\n",
    "        new = history_colors[-1]\n",
    "        latest_new = history_colors[-2]\n",
    "        if new != latest_new:\n",
    "            color_changed_acc = 1\n",
    "        else:\n",
    "            if color_changed_acc > 0:\n",
    "                color_changed_acc += 1\n",
    "    \n",
    "    return color_changed_acc"
   ]
  },
  {
   "cell_type": "code",
   "execution_count": null,
   "id": "a16a69ea-1933-4bf6-9821-0f636dbb3a82",
   "metadata": {},
   "outputs": [],
   "source": []
  }
 ],
 "metadata": {
  "kernelspec": {
   "display_name": "Python 3",
   "language": "python",
   "name": "python3"
  },
  "language_info": {
   "codemirror_mode": {
    "name": "ipython",
    "version": 3
   },
   "file_extension": ".py",
   "mimetype": "text/x-python",
   "name": "python",
   "nbconvert_exporter": "python",
   "pygments_lexer": "ipython3",
   "version": "3.6.9"
  }
 },
 "nbformat": 4,
 "nbformat_minor": 5
}
